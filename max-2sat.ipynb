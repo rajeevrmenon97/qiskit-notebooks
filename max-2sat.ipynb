{
 "cells": [
  {
   "cell_type": "markdown",
   "metadata": {},
   "source": [
    "# Max-2-SAT using QAOA\n"
   ]
  },
  {
   "cell_type": "code",
   "execution_count": null,
   "metadata": {},
   "outputs": [],
   "source": [
    "# Suppress warnings\n",
    "import warnings\n",
    "warnings.filterwarnings(\"ignore\")\n",
    "\n",
    "# Set this to true to use the local Aer simulator\n",
    "USE_LOCAL_SIM = True\n",
    "\n",
    "# Give any backend name here to choose a specific one\n",
    "BACKEND_NAME = ''\n",
    "\n",
    "# Max number of retries for errors while running estimator\n",
    "MAX_RETRIES = 20"
   ]
  },
  {
   "cell_type": "code",
   "execution_count": null,
   "metadata": {},
   "outputs": [],
   "source": [
    "# To run on hardware, select the backend with the fewest number of jobs in the queue\n",
    "\n",
    "from qiskit_ibm_runtime import QiskitRuntimeService\n",
    "from qiskit_aer import AerSimulator\n",
    "\n",
    "service = QiskitRuntimeService(channel='ibm_quantum')\n",
    "real_backend = service.least_busy(operational=True, simulator=False) if not BACKEND_NAME else service.backend(BACKEND_NAME)\n",
    "sim = AerSimulator.from_backend(real_backend)\n",
    "\n",
    "if USE_LOCAL_SIM:\n",
    "    backend = sim\n",
    "else:\n",
    "    backend = real_backend\n",
    "    \n",
    "print(f\"Backend chosen: {backend.name}\")"
   ]
  },
  {
   "cell_type": "markdown",
   "metadata": {},
   "source": [
    "## Step 1 - Map classical inputs to a quantum problem\n",
    "\n",
    "### Define the problem\n",
    "\n",
    "The boolean expression is defined using tuples where each tuple represents a clause. Each member of the tuple represent a literal and the tuple represent the disjunction of literals. Positive numbers in the tuple represent the variables and negative numbers represent the negation of that variable.\n"
   ]
  },
  {
   "cell_type": "code",
   "execution_count": null,
   "metadata": {},
   "outputs": [],
   "source": [
    "from IPython.display import display, Math\n",
    "\n",
    "# Define the boolean expression\n",
    "# clauses = [(1,3), (-1,2), (-2, 3)]\n",
    "# clauses = [(1,2), (2,3), (1, 3)]\n",
    "clauses = [(1, -2), (2, -3), (3, -1), (1, 2)]\n",
    "\n",
    "# Get a list of variables\n",
    "variables = set()\n",
    "for i, j in clauses:\n",
    "    variables.add(abs(i))\n",
    "    variables.add(abs(j))\n",
    "\n",
    "print(\"List of variables:\")\n",
    "display(Math(', '.join(f'x_{i}' for i in sorted(variables))))\n",
    "\n",
    "# Print the boolean expression\n",
    "latex_clauses = []\n",
    "for clause in clauses:\n",
    "    clause_literals = [f'\\\\overline{{x_{abs(lit)}}}' if lit < 0 else f'x_{abs(lit)}' for lit in clause]\n",
    "    latex_clauses.append(f'({clause_literals[0]} \\\\lor {clause_literals[1]})')\n",
    "\n",
    "print(\"Given boolean expression:\", end='')\n",
    "display(Math(' \\\\land '.join(latex_clauses)))"
   ]
  },
  {
   "cell_type": "markdown",
   "metadata": {},
   "source": [
    "### Associate a quadratic penalty for each clause\n",
    "\n",
    "For every type of clause we can associate a quadratic penalty to it as shown below. The quadratic penalties for each clause can be added together to form a composite penalty function, which can be minimized\n",
    "\n",
    "| Clause                                 | Penalty                     |\n",
    "| -------------------------------------- | --------------------------- |\n",
    "| $$x_i \\lor x_j$$                       | $$1 - x_i - x_j + x_i x_j$$ |\n",
    "| $$x_i \\lor \\overline{x_j}$$            | $$x_j - x_i x_j$$           |\n",
    "| $$\\overline{x_i} \\lor x_j$$            | $$x_i - x_i x_j$$           |\n",
    "| $$\\overline{x_i} \\lor \\overline{x_j}$$ | $$x_i x_j$$                 |\n"
   ]
  },
  {
   "cell_type": "code",
   "execution_count": null,
   "metadata": {},
   "outputs": [],
   "source": [
    "# Calculate the constant term, linear terms and quadratic terms in the composite penalty function\n",
    "\n",
    "constant_term = 0\n",
    "linear_terms = {}\n",
    "quadratic_terms = {}\n",
    "\n",
    "for clause in clauses:\n",
    "    lit_1, lit_2 = clause if abs(clause[0]) < abs(clause[1]) else clause[::-1]\n",
    "    var_1, var_2 = abs(lit_1), abs(lit_2)\n",
    "\n",
    "    if lit_1 > 0:\n",
    "        if lit_2 > 0:\n",
    "            constant_term += 1\n",
    "            linear_terms[var_1] = linear_terms.get(var_1, 0) - 1\n",
    "            linear_terms[var_2] = linear_terms.get(var_2, 0) - 1\n",
    "            quadratic_terms[(var_1, var_2)] = quadratic_terms.get((var_1, var_2), 0) + 1\n",
    "        elif lit_2 < 0:\n",
    "            linear_terms[var_2] = linear_terms.get(var_2, 0) + 1\n",
    "            quadratic_terms[(var_1, var_2)] = quadratic_terms.get((var_1, var_2), 0) - 1\n",
    "    elif lit_1 < 0:\n",
    "        if lit_2 > 0:\n",
    "            linear_terms[var_1] = linear_terms.get(var_1, 0) + 1\n",
    "            quadratic_terms[(var_1, var_2)] = quadratic_terms.get((var_1, var_2), 0) - 1\n",
    "        elif lit_2 < 0:\n",
    "            quadratic_terms[(var_1, var_2)] = quadratic_terms.get((var_1, var_2), 0) + 1\n",
    "\n",
    "print(\"Constant term: \", constant_term)\n",
    "print(\"Linear terms: \", sorted(linear_terms.items()))\n",
    "print(\"Quadratic terms: \", sorted(quadratic_terms.items()))"
   ]
  },
  {
   "cell_type": "code",
   "execution_count": null,
   "metadata": {},
   "outputs": [],
   "source": [
    "# Load the quadratic program\n",
    "\n",
    "from qiskit_optimization import QuadraticProgram\n",
    "\n",
    "mod = QuadraticProgram(\"max-2-sat\")\n",
    "\n",
    "for i in sorted(variables):\n",
    "    mod.binary_var(name=f\"x{i}\")\n",
    "    \n",
    "mod.minimize(\n",
    "    constant=constant_term, \n",
    "    linear={f\"x{k}\": v for k,v in  linear_terms.items() if v != 0}, \n",
    "    quadratic={(f\"x{k[0]}\", f\"x{k[1]}\"): v for k, v in quadratic_terms.items() if v != 0})\n",
    "\n",
    "print(mod.prettyprint())"
   ]
  },
  {
   "cell_type": "markdown",
   "metadata": {},
   "source": [
    "### Convert quadratic program into Ising Hamiltonian\n"
   ]
  },
  {
   "cell_type": "code",
   "execution_count": null,
   "metadata": {},
   "outputs": [],
   "source": [
    "from qiskit_optimization import translators\n",
    "\n",
    "hamiltonian, offset = translators.to_ising(mod)\n",
    "print(hamiltonian)"
   ]
  },
  {
   "cell_type": "markdown",
   "metadata": {},
   "source": [
    "### Build Ansatz for the QAOA algorithm\n"
   ]
  },
  {
   "cell_type": "code",
   "execution_count": null,
   "metadata": {},
   "outputs": [],
   "source": [
    "# QAOA ansatz circuit\n",
    "from qiskit.circuit.library import QAOAAnsatz\n",
    "\n",
    "ansatz = QAOAAnsatz(hamiltonian, reps=2)\n",
    "\n",
    "print(\"Ansatz in basic gates: \")\n",
    "ansatz.decompose(reps=3).draw(output=\"mpl\", style=\"iqp\")"
   ]
  },
  {
   "cell_type": "code",
   "execution_count": null,
   "metadata": {},
   "outputs": [],
   "source": [
    "print(\"QAOA structure with reps=1:\")\n",
    "ansatz.decompose().draw(output=\"mpl\", style=\"iqp\")"
   ]
  },
  {
   "cell_type": "markdown",
   "metadata": {},
   "source": [
    "## Step 2: Optimize problem for quantum execution.\n"
   ]
  },
  {
   "cell_type": "markdown",
   "metadata": {},
   "source": [
    "### ISA Circuit\n",
    "\n",
    "Schedule a series of [`qiskit.transpiler`](https://docs.quantum-computing.ibm.com/api/qiskit/transpiler) passes to optimize the circuit for the selected backend and make it compatible with the instruction set architecture (ISA) of the backend.\n"
   ]
  },
  {
   "cell_type": "code",
   "execution_count": null,
   "metadata": {},
   "outputs": [],
   "source": [
    "from qiskit.transpiler.preset_passmanagers import generate_preset_pass_manager\n",
    "\n",
    "target = backend.target\n",
    "pm = generate_preset_pass_manager(target=target, optimization_level=3)\n",
    "\n",
    "ansatz_isa = pm.run(ansatz)\n",
    "ansatz_isa.draw(output=\"mpl\", idle_wires=False, style=\"iqp\")"
   ]
  },
  {
   "cell_type": "markdown",
   "metadata": {},
   "source": [
    "### ISA Observables\n",
    "\n",
    "Transform the Hamiltonian to make it backend compatible before running jobs.\n"
   ]
  },
  {
   "cell_type": "code",
   "execution_count": null,
   "metadata": {},
   "outputs": [],
   "source": [
    "hamiltonian_isa = hamiltonian.apply_layout(ansatz_isa.layout)\n",
    "hamiltonian_isa"
   ]
  },
  {
   "cell_type": "markdown",
   "metadata": {},
   "source": [
    "## Step 3: Execute using Qiskit Primitives\n"
   ]
  },
  {
   "cell_type": "markdown",
   "metadata": {},
   "source": [
    "Use a [`Session`](https://docs.quantum-computing.ibm.com/api/qiskit-ibm-runtime/qiskit_ibm_runtime.Session) to execute all calls within a single block."
   ]
  },
  {
   "cell_type": "code",
   "execution_count": null,
   "metadata": {},
   "outputs": [],
   "source": [
    "from qiskit_ibm_runtime import Session\n",
    "from qiskit_ibm_runtime import EstimatorV2 as Estimator\n",
    "\n",
    "session = Session(backend=backend)\n",
    "\n",
    "estimator = Estimator(session=session)\n",
    "estimator.options.dynamical_decoupling.enable = True\n",
    "estimator.options.default_shots = 10_000"
   ]
  },
  {
   "cell_type": "markdown",
   "metadata": {},
   "source": [
    "Define the cost function over which to minimize. This is done by computing the expectation value of the Hamiltonian with respect to the parameterized ansatz circuit.\n"
   ]
  },
  {
   "cell_type": "code",
   "execution_count": null,
   "metadata": {},
   "outputs": [],
   "source": [
    "# Cost function returing estimate of energy from estimator\n",
    "num_retries = 0\n",
    "\n",
    "def cost_func(params, ansatz, hamiltonian, estimator):\n",
    "    global num_retries\n",
    "    try:\n",
    "        pub = (ansatz, [hamiltonian], [params])\n",
    "        result = estimator.run(pubs=[pub]).result()\n",
    "        cost = result[0].data.evs[0]\n",
    "    except Exception as e:\n",
    "        print(\"Error while running estimator: \", str(e))\n",
    "        if num_retries < MAX_RETRIES:\n",
    "            global session\n",
    "            session = Session(backend=backend)\n",
    "            estimator = Estimator(session=session)\n",
    "            estimator.options.dynamical_decoupling.enable = True\n",
    "            estimator.options.default_shots = 10_000\n",
    "            num_retries += 1\n",
    "            return cost_func(params, ansatz, hamiltonian, estimator)\n",
    "        raise e\n",
    "\n",
    "    return cost"
   ]
  },
  {
   "cell_type": "markdown",
   "metadata": {},
   "source": [
    "Use the [COBYLA routine from SciPy through the minimize function](https://docs.scipy.org/doc/scipy/reference/generated/scipy.optimize.minimize.html):\n"
   ]
  },
  {
   "cell_type": "code",
   "execution_count": null,
   "metadata": {},
   "outputs": [],
   "source": [
    "import numpy as np\n",
    "from scipy.optimize import minimize\n",
    "\n",
    "# Set an initial set of random parameters:\n",
    "x0 = 2 * np.pi * np.random.rand(ansatz_isa.num_parameters)\n",
    "\n",
    "res = minimize(cost_func, x0, args=(ansatz_isa, hamiltonian_isa, estimator), method=\"COBYLA\")"
   ]
  },
  {
   "cell_type": "markdown",
   "metadata": {},
   "source": [
    "The solution will be encoded in the output distribution of the ansatz circuit bound with the optimal parameters from the minimization. Therefore, a [`Sampler`](https://docs.quantum-computing.ibm.com/api/qiskit-ibm-runtime/qiskit_ibm_runtime.SamplerV2) primitive is instantiated with the same `Session`.\n"
   ]
  },
  {
   "cell_type": "code",
   "execution_count": null,
   "metadata": {},
   "outputs": [],
   "source": [
    "from qiskit_ibm_runtime import SamplerV2 as Sampler\n",
    "\n",
    "sampler = Sampler(session=session)\n",
    "sampler.options.dynamical_decoupling.enable = True\n",
    "sampler.options.default_shots = 10_000"
   ]
  },
  {
   "cell_type": "code",
   "execution_count": null,
   "metadata": {},
   "outputs": [],
   "source": [
    "print(res)"
   ]
  },
  {
   "cell_type": "markdown",
   "metadata": {},
   "source": [
    "## Step 4: Post-process, return result in classical format\n"
   ]
  },
  {
   "cell_type": "markdown",
   "metadata": {},
   "source": [
    "Plug in the solution vector of parameter angles (`x`) into the ansatz circuit to get the result\n"
   ]
  },
  {
   "cell_type": "code",
   "execution_count": null,
   "metadata": {},
   "outputs": [],
   "source": [
    "# Assign solution parameters to ansatz\n",
    "qc = ansatz.assign_parameters(res.x)\n",
    "\n",
    "# Add measurements to the circuit\n",
    "qc.measure_all()\n",
    "qc_isa = pm.run(qc)\n",
    "qc_isa.draw(output=\"mpl\", idle_wires=False, style=\"iqp\")"
   ]
  },
  {
   "cell_type": "code",
   "execution_count": null,
   "metadata": {},
   "outputs": [],
   "source": [
    "result = sampler.run([qc_isa]).result()\n",
    "samp_dist = result[0].data.meas.get_counts()\n",
    "session.close()"
   ]
  },
  {
   "cell_type": "markdown",
   "metadata": {},
   "source": [
    "Visualize the solution\n"
   ]
  },
  {
   "cell_type": "code",
   "execution_count": null,
   "metadata": {},
   "outputs": [],
   "source": [
    "from IPython.display import HTML\n",
    "from qiskit.visualization import plot_distribution\n",
    "\n",
    "# Calculate the satisfied clauses for each case\n",
    "data = []\n",
    "for case, probability in samp_dist.items():\n",
    "    values = dict(zip(sorted(variables), map(int, reversed(list(case)))))\n",
    "    row = list(reversed(list(case)))\n",
    "    sat = constant_term\n",
    "    for var, coefficient in linear_terms.items():\n",
    "        sat += values[var] * coefficient\n",
    "    for vars, coefficient in quadratic_terms.items():\n",
    "        sat += values[vars[0]] * values[vars[1]] * coefficient\n",
    "    sat = len(clauses) - sat\n",
    "    row.extend([sat, probability/10000])\n",
    "    data.append(row)\n",
    "\n",
    "# Sort the data according to probability\n",
    "data.sort(key=lambda x: x[len(variables) + 1], reverse=True)\n",
    "\n",
    "# Add header for the table\n",
    "data.insert(0, [f'x{i}' for i in sorted(variables)] + [\"Satisfied Clauses\", \"Probability\" ])\n",
    "\n",
    "# Display the equation and solutions\n",
    "display(Math(' \\\\land '.join(latex_clauses)))\n",
    "display(HTML(\n",
    "    '<table><tr>{}</tr></table>'.format(\n",
    "        '</tr><tr>'.join(\n",
    "            '<td>{}</td>'.format('</td><td>'.join(str(_) for _ in row)) for row in data)\n",
    "        )\n",
    "))\n",
    "\n",
    "# Show histogram\n",
    "plot_distribution(samp_dist, figsize=(15, 5))"
   ]
  }
 ],
 "metadata": {
  "kernelspec": {
   "display_name": "venv",
   "language": "python",
   "name": "python3"
  },
  "language_info": {
   "codemirror_mode": {
    "name": "ipython",
    "version": 3
   },
   "file_extension": ".py",
   "mimetype": "text/x-python",
   "name": "python",
   "nbconvert_exporter": "python",
   "pygments_lexer": "ipython3",
   "version": "3.12.0"
  }
 },
 "nbformat": 4,
 "nbformat_minor": 2
}
