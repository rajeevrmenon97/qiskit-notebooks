{
 "cells": [
  {
   "cell_type": "markdown",
   "id": "341660af",
   "metadata": {},
   "source": [
    "# Max-3-SAT using QAOA"
   ]
  },
  {
   "cell_type": "code",
   "execution_count": null,
   "id": "0f456ad3",
   "metadata": {},
   "outputs": [],
   "source": [
    "# Suppress warnings\n",
    "import warnings\n",
    "warnings.filterwarnings(\"ignore\")\n",
    "\n",
    "# Set this to true to use the local Aer simulator\n",
    "USE_LOCAL_SIM = True\n",
    "\n",
    "# Give any backend name here to choose a specific one\n",
    "BACKEND_NAME = 'ibm_sherbrooke'\n",
    "\n",
    "# Max number of retries for errors while running estimator\n",
    "MAX_RETRIES = 100"
   ]
  },
  {
   "cell_type": "code",
   "execution_count": null,
   "id": "c7fdcbef",
   "metadata": {},
   "outputs": [],
   "source": [
    "# To run on hardware, select the backend with the fewest number of jobs in the queue\n",
    "\n",
    "from qiskit_ibm_runtime import QiskitRuntimeService\n",
    "from qiskit_aer import AerSimulator\n",
    "\n",
    "service = QiskitRuntimeService(channel='ibm_quantum')\n",
    "real_backend = service.least_busy(operational=True, simulator=False) if not BACKEND_NAME else service.backend(BACKEND_NAME)\n",
    "sim = AerSimulator.from_backend(real_backend)\n",
    "\n",
    "if USE_LOCAL_SIM:\n",
    "    backend = sim\n",
    "else:\n",
    "    backend = real_backend\n",
    "    \n",
    "print(f\"Backend chosen: {backend.name}\")"
   ]
  },
  {
   "cell_type": "markdown",
   "id": "ed465f77",
   "metadata": {},
   "source": [
    "## Step 1 - Map classical inputs to a quantum problem\n",
    "\n",
    "### Define the problem\n",
    "\n",
    "The boolean expression is defined using tuples where each tuple represents a clause. Each member of the tuple represent a literal and the tuple represent the disjunction of literals. Positive numbers in the tuple represent the variables and negative numbers represent the negation of that variable."
   ]
  },
  {
   "cell_type": "code",
   "execution_count": null,
   "id": "92fe04a9-60de-463e-9d97-deb094fd85dc",
   "metadata": {},
   "outputs": [],
   "source": [
    "from IPython.display import display, Math\n",
    "\n",
    "# Define the boolean expression\n",
    "clauses = [(-1,-3,-2), (1,2,-3), (3,2,1)]\n",
    "#clauses = [(1, 2, 3), (1, 2, -3), (1, -2, 3), (1, -2, -3), (-1, 2, 3), (-1, 2, -3), (-1, -2, 3)]\n",
    "\n",
    "# Get a list of variables\n",
    "variables = set()\n",
    "for clause in clauses:\n",
    "    for variable in clause:\n",
    "        variables.add(abs(variable))\n",
    "\n",
    "print(\"List of variables:\")\n",
    "display(Math(', '.join(f'x{i}' for i in sorted(variables))))\n",
    "\n",
    "# Print the boolean expression\n",
    "latex_clauses = []\n",
    "for clause in clauses:\n",
    "    clause_literals = [f'\\\\overline{{x{abs(lit)}}}' if lit < 0 else f'x{abs(lit)}' for lit in clause]\n",
    "    latex_clause = '(' + ' \\\\lor '.join(clause_literals) + ')'\n",
    "    latex_clauses.append(latex_clause)\n",
    "    \n",
    "print(\"Given boolean expression:\", end='')\n",
    "display(Math(' \\\\land '.join(latex_clauses)))"
   ]
  },
  {
   "cell_type": "markdown",
   "id": "477569f2",
   "metadata": {},
   "source": [
    "### Associate a penalty for each clause\n",
    "\n",
    "For every type of clause we can associate a penalty to it as shown below. The penalties for each clause can be added together to form a composite penalty function, which can be minimized\n",
    "\n",
    "| Clause                                                     | Penalty                                                             |\n",
    "| ---------------------------------------------------------- | ------------------------------------------------------------------- |\n",
    "| $$x_i \\lor x_j \\lor x_k$$                                  | $$1 - x_i x_j x_k - x_i - x_j - x_k + x_i x_j + x_j x_k + x_i x_k$$ |\n",
    "| $$x_i \\lor x_j \\lor \\overline{x_k}$$                       | $$x_k - x_i x_k - x_j x_k + x_i x_j x_k$$                           |\n",
    "| $$x_i \\lor \\overline{x_j} \\lor \\overline{x_k}$$            | $$x_j x_k - x_i x_j x_k$$                                           |\n",
    "| $$\\overline{x_i} \\lor \\overline{x_j} \\lor \\overline{x_k}$$ | $$x_i x_j x_k$$                                                     |\n"
   ]
  },
  {
   "cell_type": "code",
   "execution_count": null,
   "id": "9c215839-a9cc-49b3-b8a2-a91c90265062",
   "metadata": {},
   "outputs": [],
   "source": [
    "from sympy import symbols, simplify\n",
    "\n",
    "# Define the symbols required for the clause penalties\n",
    "penalty_symbols = symbols('x_i, x_j, x_k')\n",
    "xi, xj, xk = penalty_symbols\n",
    "\n",
    "# Define penalties for each type of clause based on the number of negatives\n",
    "penalties = [None] * 4\n",
    "penalties[0] = 1 - (xi * xj * xk) - xi - xj - xk + (xi * xj) + (xj * xk) + (xi * xk)\n",
    "penalties[1] = xk - (xi * xk) - (xj * xk) + (xi * xj * xk)\n",
    "penalties[2] = (xj * xk) - (xi * xj * xk)\n",
    "penalties[3] = (xi * xj * xk)\n",
    "\n",
    "# Define the symbols for every variable in the expression\n",
    "syms = symbols(' '.join(f'x_{i}' for i in sorted(variables)))\n",
    "symbol_map = {}\n",
    "for variable in variables:\n",
    "    for symbol in syms:\n",
    "        if int(str(symbol)[2:]) == variable:\n",
    "            symbol_map[variable] = symbol\n",
    "\n",
    "# Initialize an empty expression\n",
    "penalty = simplify(0)\n",
    "\n",
    "for clause in clauses:\n",
    "    # Get the positive and negative literals\n",
    "    positive_literals = [abs(x) for x in clause if x > 0]\n",
    "    negative_literals = [abs(x) for x in clause if x < 0]\n",
    "    \n",
    "    # Check the number of negatives and choose the appropriate penalty for clause\n",
    "    n = len(negative_literals)\n",
    "    clause_penalty = penalties[n]\n",
    "    \n",
    "    # Substitute the actual variables in the penalty equation\n",
    "    for index, variable in enumerate(positive_literals):\n",
    "        clause_penalty = clause_penalty.subs(penalty_symbols[index], symbol_map[variable])\n",
    "    for index, variable in enumerate(negative_literals):\n",
    "        clause_penalty = clause_penalty.subs(penalty_symbols[2 - index], symbol_map[variable])\n",
    "\n",
    "    # Add the clause penalty to the composite penalty\n",
    "    penalty += clause_penalty\n",
    "\n",
    "print(\"Composite penalty function:\")\n",
    "penalty"
   ]
  },
  {
   "cell_type": "markdown",
   "id": "62247d08",
   "metadata": {},
   "source": [
    "### Calculate cost hamiltonian"
   ]
  },
  {
   "cell_type": "code",
   "execution_count": null,
   "id": "3219807f",
   "metadata": {},
   "outputs": [],
   "source": [
    "syms = symbols(' '.join(f'Z_{i}' for i in sorted(variables)))\n",
    "pauli_op_map = {}\n",
    "for variable in variables:\n",
    "    for symbol in syms:\n",
    "        if int(str(symbol)[2:]) == variable:\n",
    "            pauli_op_map[variable] = symbol\n",
    "\n",
    "hamiltonian_op = penalty\n",
    "for variable in variables:\n",
    "    hamiltonian_op = hamiltonian_op.subs(symbol_map[variable], (1 - pauli_op_map[variable])/2)\n",
    "\n",
    "hamiltonian_op = hamiltonian_op.simplify()\n",
    "hamiltonian_op"
   ]
  },
  {
   "cell_type": "code",
   "execution_count": null,
   "id": "27d4bba7",
   "metadata": {},
   "outputs": [],
   "source": [
    "from operator import mul\n",
    "from functools import reduce\n",
    "from itertools import combinations\n",
    "from qiskit.quantum_info import SparsePauliOp\n",
    "\n",
    "hamiltonian_coefficients = hamiltonian_op.as_coefficients_dict()\n",
    "pauli_list = [('III', hamiltonian_coefficients[1])]\n",
    "\n",
    "for i in range(1, 4):\n",
    "    terms = [reduce(mul, x, 1) for x in combinations(pauli_op_map.values(), i)]\n",
    "    for term in terms:\n",
    "        if term in hamiltonian_coefficients:\n",
    "            pauli_string = ''.join('Z' if x in term.free_symbols else 'I' for x in pauli_op_map.values())[::-1]\n",
    "            pauli_list.append((pauli_string, hamiltonian_coefficients[term]))\n",
    "\n",
    "\n",
    "hamiltonian = SparsePauliOp.from_list(pauli_list)\n",
    "print(hamiltonian)"
   ]
  },
  {
   "cell_type": "markdown",
   "id": "2834dd44",
   "metadata": {},
   "source": [
    "### Build Ansatz for the QAOA algorithm"
   ]
  },
  {
   "cell_type": "code",
   "execution_count": null,
   "id": "ba24c338",
   "metadata": {},
   "outputs": [],
   "source": [
    "# QAOA ansatz circuit\n",
    "from qiskit.circuit.library import QAOAAnsatz\n",
    "\n",
    "ansatz = QAOAAnsatz(hamiltonian, reps=2)\n",
    "\n",
    "print(\"Ansatz in basic gates: \")\n",
    "ansatz.decompose(reps=3).draw(output=\"mpl\", style=\"iqp\")"
   ]
  },
  {
   "cell_type": "code",
   "execution_count": null,
   "id": "c83224b9",
   "metadata": {},
   "outputs": [],
   "source": [
    "print(\"QAOA structure with reps=1:\")\n",
    "ansatz.decompose().draw(output=\"mpl\", style=\"iqp\")"
   ]
  },
  {
   "cell_type": "markdown",
   "id": "7de03df2",
   "metadata": {},
   "source": [
    "## Step 2: Optimize problem for quantum execution.\n",
    "\n",
    "### ISA Circuit\n",
    "\n",
    "Schedule a series of [`qiskit.transpiler`](https://docs.quantum-computing.ibm.com/api/qiskit/transpiler) passes to optimize the circuit for the selected backend and make it compatible with the instruction set architecture (ISA) of the backend.\n"
   ]
  },
  {
   "cell_type": "code",
   "execution_count": null,
   "id": "cf92a2bd",
   "metadata": {},
   "outputs": [],
   "source": [
    "from qiskit.transpiler.preset_passmanagers import generate_preset_pass_manager\n",
    "\n",
    "target = backend.target\n",
    "pm = generate_preset_pass_manager(target=target, optimization_level=3)\n",
    "\n",
    "ansatz_isa = pm.run(ansatz)\n",
    "ansatz_isa.draw(output=\"mpl\", idle_wires=False, style=\"iqp\")"
   ]
  },
  {
   "cell_type": "markdown",
   "id": "81bab916",
   "metadata": {},
   "source": [
    "### ISA Observables\n",
    "\n",
    "Transform the Hamiltonian to make it backend compatible before running jobs."
   ]
  },
  {
   "cell_type": "code",
   "execution_count": null,
   "id": "c1c268f5",
   "metadata": {},
   "outputs": [],
   "source": [
    "hamiltonian_isa = hamiltonian.apply_layout(ansatz_isa.layout)\n",
    "hamiltonian_isa"
   ]
  },
  {
   "cell_type": "markdown",
   "id": "d0d68b08",
   "metadata": {},
   "source": [
    "## Step 3: Execute using Qiskit Primitives\n",
    "\n",
    "Use a [`Session`](https://docs.quantum-computing.ibm.com/api/qiskit-ibm-runtime/qiskit_ibm_runtime.Session) to execute all calls within a single block."
   ]
  },
  {
   "cell_type": "code",
   "execution_count": null,
   "id": "1602be66",
   "metadata": {},
   "outputs": [],
   "source": [
    "from qiskit_ibm_runtime import Session\n",
    "from qiskit_ibm_runtime import EstimatorV2 as Estimator\n",
    "\n",
    "session = None\n",
    "estimator = None\n",
    "\n",
    "def initialize_estimator():\n",
    "    global session\n",
    "    global estimator\n",
    "    \n",
    "    session = Session(backend=backend)\n",
    "    estimator = Estimator(session=session)\n",
    "    estimator.options.dynamical_decoupling.enable = True\n",
    "    estimator.options.default_shots = 10_000\n",
    "\n",
    "initialize_estimator()"
   ]
  },
  {
   "cell_type": "markdown",
   "id": "d4b3230c",
   "metadata": {},
   "source": [
    "Define the cost function over which to minimize. This is done by computing the expectation value of the Hamiltonian with respect to the parameterized ansatz circuit."
   ]
  },
  {
   "cell_type": "code",
   "execution_count": null,
   "id": "5eb1fb3b",
   "metadata": {},
   "outputs": [],
   "source": [
    "# Cost function returing estimate of energy from estimator\n",
    "num_retries = 0\n",
    "\n",
    "def cost_func(params, ansatz, hamiltonian, estimator):\n",
    "    global num_retries\n",
    "    try:\n",
    "        pub = (ansatz, [hamiltonian], [params])\n",
    "        result = estimator.run(pubs=[pub]).result()\n",
    "        cost = result[0].data.evs[0]\n",
    "    except Exception as e:\n",
    "        print(\"Error while running estimator: \", str(e))\n",
    "        if num_retries < MAX_RETRIES:\n",
    "            initialize_estimator()\n",
    "            num_retries += 1\n",
    "            return cost_func(params, ansatz, hamiltonian, estimator)\n",
    "        raise e\n",
    "\n",
    "    return cost"
   ]
  },
  {
   "cell_type": "markdown",
   "id": "2774e327",
   "metadata": {},
   "source": [
    "Use the [COBYLA routine from SciPy through the minimize function](https://docs.scipy.org/doc/scipy/reference/generated/scipy.optimize.minimize.html):\n"
   ]
  },
  {
   "cell_type": "code",
   "execution_count": null,
   "id": "c81200ce",
   "metadata": {},
   "outputs": [],
   "source": [
    "import numpy as np\n",
    "from scipy.optimize import minimize\n",
    "\n",
    "# Set an initial set of random parameters:\n",
    "x0 = 2 * np.pi * np.random.rand(ansatz_isa.num_parameters)\n",
    "\n",
    "res = minimize(cost_func, x0, args=(ansatz_isa, hamiltonian_isa, estimator), method=\"COBYLA\")"
   ]
  },
  {
   "cell_type": "markdown",
   "id": "e4ef2df8",
   "metadata": {},
   "source": [
    "The solution will be encoded in the output distribution of the ansatz circuit bound with the optimal parameters from the minimization. Therefore, a [`Sampler`](https://docs.quantum-computing.ibm.com/api/qiskit-ibm-runtime/qiskit_ibm_runtime.SamplerV2) primitive is instantiated with the same `Session`.\n"
   ]
  },
  {
   "cell_type": "code",
   "execution_count": null,
   "id": "eda73065",
   "metadata": {},
   "outputs": [],
   "source": [
    "from qiskit_ibm_runtime import SamplerV2 as Sampler\n",
    "\n",
    "sampler = Sampler(session=session)\n",
    "sampler.options.dynamical_decoupling.enable = True\n",
    "sampler.options.default_shots = 10_000"
   ]
  },
  {
   "cell_type": "code",
   "execution_count": null,
   "id": "569dfe6e",
   "metadata": {},
   "outputs": [],
   "source": [
    "print(res)"
   ]
  },
  {
   "cell_type": "markdown",
   "id": "be2c162b",
   "metadata": {},
   "source": [
    "## Step 4: Post-process, return result in classical format\n",
    "\n",
    "Plug in the solution vector of parameter angles (`x`) into the ansatz circuit to get the result"
   ]
  },
  {
   "cell_type": "code",
   "execution_count": null,
   "id": "ce241c43",
   "metadata": {},
   "outputs": [],
   "source": [
    "# Assign solution parameters to ansatz\n",
    "qc = ansatz.assign_parameters(res.x)\n",
    "\n",
    "# Add measurements to the circuit\n",
    "qc.measure_all()\n",
    "qc_isa = pm.run(qc)\n",
    "qc_isa.draw(output=\"mpl\", idle_wires=False, style=\"iqp\")"
   ]
  },
  {
   "cell_type": "code",
   "execution_count": null,
   "id": "1cd79539",
   "metadata": {},
   "outputs": [],
   "source": [
    "result = sampler.run([qc_isa]).result()\n",
    "samp_dist = result[0].data.meas.get_counts()\n",
    "session.close()"
   ]
  },
  {
   "cell_type": "markdown",
   "id": "3a9e4a01",
   "metadata": {},
   "source": [
    "Visualize the solution"
   ]
  },
  {
   "cell_type": "code",
   "execution_count": null,
   "id": "17e8a715",
   "metadata": {},
   "outputs": [],
   "source": [
    "from IPython.display import HTML\n",
    "from qiskit.visualization import plot_distribution\n",
    "\n",
    "# Calculate the satisfied clauses for each case\n",
    "data = []\n",
    "for case, probability in samp_dist.items():\n",
    "    values = dict(zip(sorted(variables), map(int, reversed(list(case)))))\n",
    "    row = list(reversed(list(case)))\n",
    "    sat = penalty\n",
    "    for variable in variables:\n",
    "        sat = sat.subs(symbol_map[variable], values[variable])\n",
    "    sat = len(clauses) - sat\n",
    "    row.extend([sat, probability/10000])\n",
    "    data.append(row)\n",
    "\n",
    "# Sort the data according to probability\n",
    "data.sort(key=lambda x: x[len(variables) + 1], reverse=True)\n",
    "\n",
    "# Add header for the table\n",
    "data.insert(0, [f'x{i}' for i in sorted(variables)] + [\"Satisfied Clauses\", \"Probability\" ])"
   ]
  },
  {
   "cell_type": "code",
   "execution_count": null,
   "id": "b86d25f6",
   "metadata": {},
   "outputs": [],
   "source": [
    "# Display the equation and solutions\n",
    "display(Math(' \\\\land '.join(latex_clauses)))\n",
    "display(HTML(\n",
    "    '<table><tr>{}</tr></table>'.format(\n",
    "        '</tr><tr>'.join(\n",
    "            '<td>{}</td>'.format('</td><td>'.join(str(_) for _ in row)) for row in data)\n",
    "        )\n",
    "))\n",
    "\n",
    "# Show histogram\n",
    "plot_distribution(samp_dist, figsize=(15, 5))"
   ]
  }
 ],
 "metadata": {
  "kernelspec": {
   "display_name": "Python 3 (ipykernel)",
   "language": "python",
   "name": "python3"
  },
  "language_info": {
   "codemirror_mode": {
    "name": "ipython",
    "version": 3
   },
   "file_extension": ".py",
   "mimetype": "text/x-python",
   "name": "python",
   "nbconvert_exporter": "python",
   "pygments_lexer": "ipython3",
   "version": "3.12.0"
  }
 },
 "nbformat": 4,
 "nbformat_minor": 5
}
