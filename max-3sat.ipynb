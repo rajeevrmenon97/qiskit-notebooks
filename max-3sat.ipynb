{
 "cells": [
  {
   "cell_type": "code",
   "execution_count": 13,
   "id": "92fe04a9-60de-463e-9d97-deb094fd85dc",
   "metadata": {},
   "outputs": [
    {
     "name": "stdout",
     "output_type": "stream",
     "text": [
      "List of variables:\n"
     ]
    },
    {
     "data": {
      "text/latex": [
       "$\\displaystyle x1, x2, x3$"
      ],
      "text/plain": [
       "<IPython.core.display.Math object>"
      ]
     },
     "metadata": {},
     "output_type": "display_data"
    },
    {
     "name": "stdout",
     "output_type": "stream",
     "text": [
      "Given boolean expression:"
     ]
    },
    {
     "data": {
      "text/latex": [
       "$\\displaystyle (x1 \\lor x3 \\lor x2) \\land (\\overline{x1} \\lor x2) \\land (\\overline{x2} \\lor x3)$"
      ],
      "text/plain": [
       "<IPython.core.display.Math object>"
      ]
     },
     "metadata": {},
     "output_type": "display_data"
    }
   ],
   "source": [
    "from IPython.display import display, Math\n",
    "\n",
    "# Define the boolean expression\n",
    "clauses = [(1,3,2), (-1,2), (-2, 3)]\n",
    "# clauses = [(1,2), (2,3), (1, 3)]\n",
    "#clauses = [(1, 2, 3), (1, 2, -3), (1, -2, 3), (1, -2, -3), (-1, 2, 3), (-1, 2, -3), (-1, -2, 3)]\n",
    "\n",
    "# Get a list of variables\n",
    "variables = set()\n",
    "for clause in clauses:\n",
    "    for variable in clause:\n",
    "        variables.add(abs(variable))\n",
    "\n",
    "print(\"List of variables:\")\n",
    "display(Math(', '.join(f'x{i}' for i in sorted(variables))))\n",
    "\n",
    "# Print the boolean expression\n",
    "latex_clauses = []\n",
    "for clause in clauses:\n",
    "    clause_literals = [f'\\\\overline{{x{abs(lit)}}}' if lit < 0 else f'x{abs(lit)}' for lit in clause]\n",
    "    latex_clause = '(' + ' \\\\lor '.join(clause_literals) + ')'\n",
    "    latex_clauses.append(latex_clause)\n",
    "    \n",
    "print(\"Given boolean expression:\", end='')\n",
    "display(Math(' \\\\land '.join(latex_clauses)))"
   ]
  },
  {
   "cell_type": "code",
   "execution_count": 12,
   "id": "01862bee-bf8c-4a2c-93c4-0dfef20adf97",
   "metadata": {},
   "outputs": [
    {
     "name": "stdout",
     "output_type": "stream",
     "text": [
      "[(0, 3), (1, 4), (2, 5), (6, 7), (7, 8), (6, 8), (6, 1), (7, 3), (9, 10), (10, 11), (9, 11), (9, 4), (10, 2), (12, 13), (13, 14), (12, 14), (12, 5), (13, 3)]\n"
     ]
    }
   ],
   "source": [
    "# Converting a 3SAT expression to k-coloring:\n",
    "\n",
    "# First (variables) amount of nodes will be the true-literals,\n",
    "# second (variables) amoun will be the false-literals,\n",
    "# each 3 after that will represent a clause\n",
    "num_literals = len(variables)\n",
    "literals = list(variables)\n",
    "edges = []\n",
    "for index, variable in enumerate(literals):\n",
    "    edge = (index, index+num_literals)\n",
    "    edges.append(edge)\n",
    "literals_offset = num_literals*2\n",
    "for index, clause in enumerate(clauses):\n",
    "    clause_offset = index*3\n",
    "    total_offset = literals_offset + clause_offset\n",
    "    edge1 = (total_offset, total_offset+1)\n",
    "    edge2 = (total_offset+1, total_offset+2)\n",
    "    edge3 = (total_offset, total_offset+2)\n",
    "    edges.append(edge1)\n",
    "    edges.append(edge2)\n",
    "    edges.append(edge3)\n",
    "    for index, literal in enumerate(clause):\n",
    "        inbound_edge = total_offset+index\n",
    "        literalIndex = abs(literal)\n",
    "        if (literal < 0):\n",
    "            literal_node_offset = num_literals\n",
    "        else:\n",
    "            literal_node_offset = 0\n",
    "        outbound_edge = literal_node_offset + literalIndex\n",
    "        edges.append((inbound_edge, outbound_edge))\n",
    "print(edges)"
   ]
  },
  {
   "cell_type": "code",
   "execution_count": null,
   "id": "21c4ea84-cc7d-47a0-b8b4-51723634747f",
   "metadata": {},
   "outputs": [],
   "source": []
  },
  {
   "cell_type": "code",
   "execution_count": null,
   "id": "9c215839-a9cc-49b3-b8a2-a91c90265062",
   "metadata": {},
   "outputs": [],
   "source": []
  }
 ],
 "metadata": {
  "kernelspec": {
   "display_name": "Python 3 (ipykernel)",
   "language": "python",
   "name": "python3"
  },
  "language_info": {
   "codemirror_mode": {
    "name": "ipython",
    "version": 3
   },
   "file_extension": ".py",
   "mimetype": "text/x-python",
   "name": "python",
   "nbconvert_exporter": "python",
   "pygments_lexer": "ipython3",
   "version": "3.12.0"
  }
 },
 "nbformat": 4,
 "nbformat_minor": 5
}
