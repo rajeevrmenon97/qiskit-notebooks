{
 "cells": [
  {
   "cell_type": "code",
   "execution_count": 33,
   "id": "92fe04a9-60de-463e-9d97-deb094fd85dc",
   "metadata": {},
   "outputs": [
    {
     "name": "stdout",
     "output_type": "stream",
     "text": [
      "List of variables:\n"
     ]
    },
    {
     "data": {
      "text/latex": [
       "$\\displaystyle x1, x2, x3$"
      ],
      "text/plain": [
       "<IPython.core.display.Math object>"
      ]
     },
     "metadata": {},
     "output_type": "display_data"
    },
    {
     "name": "stdout",
     "output_type": "stream",
     "text": [
      "Given boolean expression:"
     ]
    },
    {
     "data": {
      "text/latex": [
       "$\\displaystyle (\\overline{x1} \\lor \\overline{x3} \\lor \\overline{x2}) \\land (x1 \\lor x2 \\lor \\overline{x3}) \\land (x3 \\lor x2 \\lor x1)$"
      ],
      "text/plain": [
       "<IPython.core.display.Math object>"
      ]
     },
     "metadata": {},
     "output_type": "display_data"
    }
   ],
   "source": [
    "from IPython.display import display, Math\n",
    "\n",
    "# Define the boolean expression\n",
    "clauses = [(-1,-3,-2), (1,2,-3), (3,2,1)]\n",
    "#clauses = [(1,3,2), (-1,2), (-2, 3)]\n",
    "# clauses = [(1,2), (2,3), (1, 3)]\n",
    "#clauses = [(1, 2, 3), (1, 2, -3), (1, -2, 3), (1, -2, -3), (-1, 2, 3), (-1, 2, -3), (-1, -2, 3)]\n",
    "\n",
    "# Get a list of variables\n",
    "variables = set()\n",
    "for clause in clauses:\n",
    "    for variable in clause:\n",
    "        variables.add(abs(variable))\n",
    "\n",
    "print(\"List of variables:\")\n",
    "display(Math(', '.join(f'x{i}' for i in sorted(variables))))\n",
    "\n",
    "# Print the boolean expression\n",
    "latex_clauses = []\n",
    "for clause in clauses:\n",
    "    clause_literals = [f'\\\\overline{{x{abs(lit)}}}' if lit < 0 else f'x{abs(lit)}' for lit in clause]\n",
    "    latex_clause = '(' + ' \\\\lor '.join(clause_literals) + ')'\n",
    "    latex_clauses.append(latex_clause)\n",
    "    \n",
    "print(\"Given boolean expression:\", end='')\n",
    "display(Math(' \\\\land '.join(latex_clauses)))"
   ]
  },
  {
   "cell_type": "code",
   "execution_count": 34,
   "id": "01862bee-bf8c-4a2c-93c4-0dfef20adf97",
   "metadata": {},
   "outputs": [
    {
     "name": "stdout",
     "output_type": "stream",
     "text": [
      "[(0, 3), (1, 4), (2, 5), (6, 7), (7, 8), (6, 8), (6, 4), (7, 6), (8, 5), (9, 10), (10, 11), (9, 11), (9, 1), (10, 2), (11, 6), (12, 13), (13, 14), (12, 14), (12, 3), (13, 2), (14, 1)]\n"
     ]
    }
   ],
   "source": [
    "# Converting a 3SAT expression to k-coloring:\n",
    "\n",
    "# First (variables) amount of nodes will be the true-literals,\n",
    "# second (variables) amoun will be the false-literals,\n",
    "# each 3 after that will represent a clause\n",
    "num_literals = len(variables)\n",
    "literals = list(variables)\n",
    "edges = []\n",
    "for index, variable in enumerate(literals):\n",
    "    edge = (index, index+num_literals)\n",
    "    edges.append(edge)\n",
    "literals_offset = num_literals*2\n",
    "for index, clause in enumerate(clauses):\n",
    "    clause_offset = index*3\n",
    "    total_offset = literals_offset + clause_offset\n",
    "    edge1 = (total_offset, total_offset+1)\n",
    "    edge2 = (total_offset+1, total_offset+2)\n",
    "    edge3 = (total_offset, total_offset+2)\n",
    "    edges.append(edge1)\n",
    "    edges.append(edge2)\n",
    "    edges.append(edge3)\n",
    "    for index, literal in enumerate(clause):\n",
    "        inbound_edge = total_offset+index\n",
    "        literalIndex = abs(literal)\n",
    "        if (literal < 0):\n",
    "            literal_node_offset = num_literals\n",
    "        else:\n",
    "            literal_node_offset = 0\n",
    "        outbound_edge = literal_node_offset + literalIndex\n",
    "        edges.append((inbound_edge, outbound_edge))\n",
    "print(edges)"
   ]
  },
  {
   "cell_type": "code",
   "execution_count": 36,
   "id": "21c4ea84-cc7d-47a0-b8b4-51723634747f",
   "metadata": {},
   "outputs": [
    {
     "name": "stdout",
     "output_type": "stream",
     "text": [
      "Constant term:  1\n",
      "Linear terms:  [(1, -1), (2, -1), (3, 0)]\n",
      "Quadratic terms:  [((1, 2), 1), ((1, 3), 0), ((2, 3), 0)]\n",
      "Cubic terms:  [((1, 2, 3), 1)]\n"
     ]
    }
   ],
   "source": [
    "import itertools\n",
    "# Converting the 3SAT expression to a cubic polynomial\n",
    "# Calculate the constant term, linear terms and quadratic terms in the composite penalty function\n",
    "\n",
    "constant_term = 0\n",
    "linear_terms = {}\n",
    "quadratic_terms = {}\n",
    "cubic_terms = {}\n",
    "\n",
    "for clause in clauses:\n",
    "    variables = []\n",
    "    # Order them in such that any non-negated literals appear first\n",
    "    for literal in clause:\n",
    "        if (literal > 0):\n",
    "            variables.append(abs(literal))\n",
    "    for literal in clause:\n",
    "        if (literal < 0):\n",
    "            variables.append(abs(literal))\n",
    "    vartuple = tuple(sorted(variables))\n",
    "    num_negatives = len([literal for literal in clause if literal < 0])\n",
    "    if num_negatives == 0:\n",
    "        constant_term += 1\n",
    "        for var in variables:\n",
    "            linear_terms[var] = linear_terms.get(var, 0) - 1\n",
    "        for pair in itertools.combinations(variables, 2):\n",
    "            quadratic_terms[tuple(sorted(list(pair)))] = quadratic_terms.get(tuple(sorted(list(pair))), 0) + 1\n",
    "        cubic_terms[vartuple] = cubic_terms.get(vartuple, 0) - 1\n",
    "    elif num_negatives == 1:\n",
    "        linear_terms[variables[2]] = linear_terms.get(variables[2], 0) + 1\n",
    "        quadratic_terms[tuple(sorted(list((variables[0], variables[2]))))] = quadratic_terms.get(tuple(sorted(list((variables[0], variables[2])))), 0) - 1\n",
    "        quadratic_terms[tuple(sorted(list((variables[1], variables[2]))))] = quadratic_terms.get(tuple(sorted(list((variables[1], variables[2])))), 0) - 1\n",
    "        cubic_terms[vartuple] = cubic_terms.get(vartuple, 0) + 1\n",
    "    elif num_negatives == 2:\n",
    "        quadratic_terms[tuple(sorted(list((variables[1], variables[2]))))] = quadratic_terms.get(tuple(sorted(list((variables[1], variables[2])))), 0) + 1\n",
    "        cubic_terms[vartuple] = cubic_terms.get(vartuple, 0) - 1\n",
    "    else:\n",
    "        cubic_terms[vartuple] = cubic_terms.get(vartuple, 0) + 1\n",
    "\n",
    "print(\"Constant term: \", constant_term)\n",
    "print(\"Linear terms: \", sorted(linear_terms.items()))\n",
    "print(\"Quadratic terms: \", sorted(quadratic_terms.items()))\n",
    "print(\"Cubic terms: \", sorted(cubic_terms.items()))"
   ]
  },
  {
   "cell_type": "code",
   "execution_count": null,
   "id": "9c215839-a9cc-49b3-b8a2-a91c90265062",
   "metadata": {},
   "outputs": [],
   "source": []
  }
 ],
 "metadata": {
  "kernelspec": {
   "display_name": "Python 3 (ipykernel)",
   "language": "python",
   "name": "python3"
  },
  "language_info": {
   "codemirror_mode": {
    "name": "ipython",
    "version": 3
   },
   "file_extension": ".py",
   "mimetype": "text/x-python",
   "name": "python",
   "nbconvert_exporter": "python",
   "pygments_lexer": "ipython3",
   "version": "3.12.0"
  }
 },
 "nbformat": 4,
 "nbformat_minor": 5
}
