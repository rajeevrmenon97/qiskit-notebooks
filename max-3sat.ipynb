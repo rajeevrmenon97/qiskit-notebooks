{
 "cells": [
  {
   "cell_type": "code",
   "execution_count": 16,
   "id": "92fe04a9-60de-463e-9d97-deb094fd85dc",
   "metadata": {},
   "outputs": [
    {
     "name": "stdout",
     "output_type": "stream",
     "text": [
      "List of variables:\n"
     ]
    },
    {
     "data": {
      "text/latex": [
       "$\\displaystyle x1, x2, x3$"
      ],
      "text/plain": [
       "<IPython.core.display.Math object>"
      ]
     },
     "metadata": {},
     "output_type": "display_data"
    },
    {
     "name": "stdout",
     "output_type": "stream",
     "text": [
      "Given boolean expression:"
     ]
    },
    {
     "data": {
      "text/latex": [
       "$\\displaystyle (x1\\lor x2\\lor x3) \\land (x1\\lor x2\\lor \\overline{x3}) \\land (x1\\lor \\overline{x2}\\lor x3) \\land (x1\\lor \\overline{x2}\\lor \\overline{x3}) \\land (\\overline{x1}\\lor x2\\lor x3) \\land (\\overline{x1}\\lor x2\\lor \\overline{x3}) \\land (\\overline{x1}\\lor \\overline{x2}\\lor x3)$"
      ],
      "text/plain": [
       "<IPython.core.display.Math object>"
      ]
     },
     "metadata": {},
     "output_type": "display_data"
    }
   ],
   "source": [
    "from IPython.display import display, Math\n",
    "\n",
    "# Define the boolean expression\n",
    "# clauses = [(1,3), (-1,2), (-2, 3)]\n",
    "# clauses = [(1,2), (2,3), (1, 3)]\n",
    "clauses = [(1, 2, 3), (1, 2, -3), (1, -2, 3), (1, -2, -3), (-1, 2, 3), (-1, 2, -3), (-1, -2, 3)]\n",
    "\n",
    "# Get a list of variables\n",
    "variables = set()\n",
    "for clause in clauses:\n",
    "    for variable in clause:\n",
    "        variables.add(abs(variable))\n",
    "\n",
    "print(\"List of variables:\")\n",
    "display(Math(', '.join(f'x{i}' for i in sorted(variables))))\n",
    "\n",
    "# Print the boolean expression\n",
    "latex_clauses = []\n",
    "for clause in clauses:\n",
    "    clause_literals = [f'\\\\overline{{x{abs(lit)}}}' if lit < 0 else f'x{abs(lit)}' for lit in clause]\n",
    "    latex_clause = f'({(clause_literals[0])}'\n",
    "    for clause_literal in clause_literals[1:]:\n",
    "        latex_clause += f'\\\\lor {clause_literal}'\n",
    "    latex_clause += f')'\n",
    "    latex_clauses.append(latex_clause)\n",
    "    \n",
    "print(\"Given boolean expression:\", end='')\n",
    "display(Math(' \\\\land '.join(latex_clauses)))"
   ]
  },
  {
   "cell_type": "code",
   "execution_count": null,
   "id": "01862bee-bf8c-4a2c-93c4-0dfef20adf97",
   "metadata": {},
   "outputs": [],
   "source": []
  }
 ],
 "metadata": {
  "kernelspec": {
   "display_name": "Python 3 (ipykernel)",
   "language": "python",
   "name": "python3"
  },
  "language_info": {
   "codemirror_mode": {
    "name": "ipython",
    "version": 3
   },
   "file_extension": ".py",
   "mimetype": "text/x-python",
   "name": "python",
   "nbconvert_exporter": "python",
   "pygments_lexer": "ipython3",
   "version": "3.12.0"
  }
 },
 "nbformat": 4,
 "nbformat_minor": 5
}
